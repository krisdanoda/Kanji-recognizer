{
 "cells": [
  {
   "cell_type": "code",
   "execution_count": 30,
   "metadata": {
    "collapsed": true
   },
   "outputs": [],
   "source": [
    "import numpy as np\n",
    "\n",
    "\n",
    "def kanji(kaniUnicode):\n",
    "    return chr(int(kaniUnicode[2:], 16))\n"
   ]
  },
  {
   "cell_type": "code",
   "execution_count": 31,
   "outputs": [
    {
     "name": "stdout",
     "output_type": "stream",
     "text": [
      "Shape of imgs: (140424, 64, 64)\n",
      "Shape of labels: (140424,)\n",
      "First 5 elements in imgs:\n",
      "[[[  0   0   0 ...   0   0   0]\n",
      "  [  0   0   0 ...   0   0   0]\n",
      "  [  0   0   0 ...   0   0   0]\n",
      "  ...\n",
      "  [  0   0   0 ...  25   0   0]\n",
      "  [  0   0   0 ...   0   0   0]\n",
      "  [  0   0   0 ...   0   0   0]]\n",
      "\n",
      " [[  0   0   0 ...   0   0   0]\n",
      "  [  0   0   0 ...   0   0   0]\n",
      "  [  0   0   0 ...   0   0   0]\n",
      "  ...\n",
      "  [  0   0   0 ... 157  18   0]\n",
      "  [  0   0   0 ...  16   0   0]\n",
      "  [  0   0   0 ...   0   0   0]]\n",
      "\n",
      " [[  0   0   0 ...   0   0   0]\n",
      "  [  0   0   0 ...   0   0   0]\n",
      "  [  0   0   0 ...   0   0   0]\n",
      "  ...\n",
      "  [  0   0   0 ...   0   0   0]\n",
      "  [  0   0   0 ...   0   0   0]\n",
      "  [  0   0   0 ...   0   0   0]]\n",
      "\n",
      " [[  0   0   0 ...   0   0   0]\n",
      "  [  0   0   0 ...   0   0   0]\n",
      "  [  0   0   0 ...   0   0   0]\n",
      "  ...\n",
      "  [  0   0   0 ...   0   0   0]\n",
      "  [  0   0   0 ...   0   0   0]\n",
      "  [  0   0   0 ...   0   0   0]]\n",
      "\n",
      " [[  0   0   0 ...   0   0   0]\n",
      "  [  0   0   0 ...   0   0   0]\n",
      "  [  0   0   0 ...   0   0   0]\n",
      "  ...\n",
      "  [  0   0   0 ...   0   0   0]\n",
      "  [  0   0   0 ...   0   0   0]\n",
      "  [  0   0   0 ...   0   0   0]]]\n",
      "First 5 elements in labels:\n",
      "['U+241C6' 'U+241C6' 'U+24FA3' 'U+24FA3' 'U+25DA1']\n"
     ]
    }
   ],
   "source": [
    "# Load the .npz file\n",
    "\n",
    "data_imgs = np.load('kkanj-imgs.npz')\n",
    "data_labels = np.load('kkanji-labels.npz')\n",
    "\n",
    "# Access the arrays stored in the .npz files\n",
    "imgs = data_imgs['arr_0']\n",
    "labels = data_labels['arr_0']\n",
    "\n",
    "# Perform operations on the loaded data\n",
    "print(\"Shape of imgs:\", imgs.shape)\n",
    "print(\"Shape of labels:\", labels.shape)\n",
    "\n",
    "\n",
    "num_elements_to_print = 5\n",
    "print(\"First\", num_elements_to_print, \"elements in imgs:\")\n",
    "print(imgs[:num_elements_to_print])\n",
    "\n",
    "\n",
    "num_elements_to_print = 5\n",
    "print(\"First\", num_elements_to_print, \"elements in labels:\")\n",
    "\n",
    "\n",
    "print(labels[:num_elements_to_print])"
   ],
   "metadata": {
    "collapsed": false
   }
  },
  {
   "cell_type": "code",
   "execution_count": 32,
   "outputs": [
    {
     "name": "stdout",
     "output_type": "stream",
     "text": [
      "上\n"
     ]
    },
    {
     "data": {
      "text/plain": "<Figure size 640x480 with 1 Axes>",
      "image/png": "[encoded data removed]"
     },
     "metadata": {},
     "output_type": "display_data"
    }
   ],
   "source": [
    "import random\n",
    "from matplotlib import pyplot as plt\n",
    "random_int = random.randint(1, 10000)\n",
    "plt.imshow(imgs[random_int], cmap='Greys')\n",
    "print(kanji(labels[random_int]))"
   ],
   "metadata": {
    "collapsed": false
   }
  },
  {
   "cell_type": "code",
   "execution_count": 33,
   "outputs": [
    {
     "name": "stdout",
     "output_type": "stream",
     "text": [
      "Size of x_train: 126381\n",
      "Size of y_train: 126381\n",
      "Size of x_test: 14043\n",
      "Size of y_test: 14043\n"
     ]
    }
   ],
   "source": [
    "from sklearn.model_selection import train_test_split\n",
    "\n",
    "\n",
    "# Splitting the data into training and testing sets\n",
    "#Consider reducing data set to stratify\n",
    "\n",
    "x_train, x_test, y_train, y_test = train_test_split(imgs, labels, test_size=0.1, random_state=42)\n",
    "\n",
    "# Printing the sizes of the resulting sets\n",
    "print(\"Size of x_train:\", len(x_train))\n",
    "print(\"Size of y_train:\", len(y_train))\n",
    "print(\"Size of x_test:\", len(x_test))\n",
    "print(\"Size of y_test:\", len(y_test))\n"
   ],
   "metadata": {
    "collapsed": false
   }
  },
  {
   "cell_type": "code",
   "execution_count": 21,
   "outputs": [],
   "source": [
    "np.savez_compressed('kkanj-x_tra.npz', imgs)\n",
    "np.savez_compressed('kkanji-labels.npz', labels)\n",
    "np.savez_compressed('kkanj-imgs.npz', imgs)\n",
    "np.savez_compressed('kkanji-labels.npz', labels)"
   ],
   "metadata": {
    "collapsed": false
   }
  }
 ],
 "metadata": {
  "kernelspec": {
   "display_name": "Python 3",
   "language": "python",
   "name": "python3"
  },
  "language_info": {
   "codemirror_mode": {
    "name": "ipython",
    "version": 2
   },
   "file_extension": ".py",
   "mimetype": "text/x-python",
   "name": "python",
   "nbconvert_exporter": "python",
   "pygments_lexer": "ipython2",
   "version": "2.7.6"
  }
 },
 "nbformat": 4,
 "nbformat_minor": 0
}
