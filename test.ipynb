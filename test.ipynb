{
 "cells": [
  {
   "cell_type": "code",
   "execution_count": 19,
   "metadata": {},
   "outputs": [
    {
     "name": "stdout",
     "output_type": "stream",
     "text": [
      "WELCOME TO KANJI RECOGNIZER :D´\n",
      "\n",
      "What would you like to do?:\n",
      "-Test your skills -> Type 1\n",
      "-Get translation of a kanji symbol -> Type 2\n",
      "(Type C to restart)\n",
      "\n",
      "You have chosen to test your skills\n",
      "What would you like to do?:\n",
      "-Test your skills -> Type 1\n",
      "-Get translation of a kanji symbol -> Type 2\n",
      "(Type C to restart)\n",
      "\n",
      "SHUT DOWN\n"
     ]
    }
   ],
   "source": [
    "print(\"WELCOME TO KANJI RECOGNIZER :D´\\n\")\n",
    "\n",
    "no_shutdown = True\n",
    "while no_shutdown:\n",
    "    print(\"What would you like to do?:\\n-Test your skills -> Type 1\\n-Get translation of a kanji symbol -> Type 2\\n(Type C to restart)\\n\")\n",
    "    choice = input(\"Type your choice here!\")\n",
    "\n",
    "    if (choice == \"1\"):\n",
    "        print(\"You have chosen to test your skills\")    \n",
    "        \n",
    "    elif (choice == \"2\"):\n",
    "        print(\"You have chosen to translate a kanji symbol\")\n",
    "        \n",
    "    elif (choice in [\"c\", \"C\"]):\n",
    "        no_shutdown = False\n",
    "        \n",
    "    else:\n",
    "        print(\"MAKE A CORRECT CHOICE\")\n",
    "\n",
    "print(\"SHUT DOWN\")\n"
   ]
  }
 ],
 "metadata": {
  "kernelspec": {
   "display_name": "base",
   "language": "python",
   "name": "python3"
  },
  "language_info": {
   "codemirror_mode": {
    "name": "ipython",
    "version": 3
   },
   "file_extension": ".py",
   "mimetype": "text/x-python",
   "name": "python",
   "nbconvert_exporter": "python",
   "pygments_lexer": "ipython3",
   "version": "3.10.6"
  },
  "orig_nbformat": 4
 },
 "nbformat": 4,
 "nbformat_minor": 2
}
