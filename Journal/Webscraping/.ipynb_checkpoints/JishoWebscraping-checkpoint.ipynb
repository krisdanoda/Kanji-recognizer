{
 "cells": [
  {
   "cell_type": "code",
   "execution_count": 18,
   "metadata": {},
   "outputs": [],
   "source": [
    "import pandas as pd\n",
    "import requests\n",
    "from bs4 import BeautifulSoup\n"
   ]
  },
  {
   "cell_type": "code",
   "execution_count": 19,
   "metadata": {},
   "outputs": [],
   "source": [
    "\n",
    "\n",
    "kanji_list = [\"漢\", \"字\", \"学\"]\n",
    "\n",
    "data = []\n",
    "\n",
    "for kanji in kanji_list:\n",
    "    url = f\"https://jisho.org/search/{kanji}\"\n",
    "    response = requests.get(url)\n",
    "    soup = BeautifulSoup(response.content, \"html.parser\")\n",
    "\n",
    "    meanings_html = soup.find_all(class_=\"meanings english sense\")\n",
    "    meanings = []\n",
    "    for sense in meanings_html:\n",
    "        definitions = [d.text.strip() for d in sense.find_all(\"span\", class_=\"meaning-definition\")]\n",
    "        meanings.append(definitions)\n",
    "\n",
    "    on_readings_html = soup.find_all(class_=\"on_yomi\")\n",
    "    on_readings = [reading.text.strip() for reading in on_readings_html]\n",
    "\n",
    "    kun_readings_html = soup.find_all(class_=\"kun_yomi\")\n",
    "    kun_readings = [reading.text.strip() for reading in kun_readings_html]\n",
    "\n",
    "    data.append({\n",
    "        \"kanji\": kanji,\n",
    "        \"definitions\": meanings,\n",
    "        \"on readings\": \", \".join(on_readings) if on_readings else \"\",\n",
    "        \"kun readings\": \", \".join(kun_readings) if kun_readings else \"\"\n",
    "    })\n",
    "\n",
    "df = pd.DataFrame(data)\n",
    "df.head(10)\n",
    "\n",
    "df.to_csv(\"kanji_info.csv\", index=False)"
   ]
  },
  {
   "cell_type": "code",
   "execution_count": null,
   "metadata": {},
   "outputs": [],
   "source": []
  }
 ],
 "metadata": {
  "kernelspec": {
   "display_name": "Python 3 (ipykernel)",
   "language": "python",
   "name": "python3"
  },
  "language_info": {
   "codemirror_mode": {
    "name": "ipython",
    "version": 3
   },
   "file_extension": ".py",
   "mimetype": "text/x-python",
   "name": "python",
   "nbconvert_exporter": "python",
   "pygments_lexer": "ipython3",
   "version": "3.9.13"
  }
 },
 "nbformat": 4,
 "nbformat_minor": 1
}
