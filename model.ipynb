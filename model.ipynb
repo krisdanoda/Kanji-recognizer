{
 "cells": [
  {
   "cell_type": "code",
   "execution_count": 7,
   "metadata": {
    "collapsed": true
   },
   "outputs": [],
   "source": [
    "\n",
    "!pip install -Uqq fastbook\n",
    "import fastbook\n",
    "fastbook.setup_book()"
   ]
  },
  {
   "cell_type": "code",
   "execution_count": 18,
   "outputs": [],
   "source": [
    "def find_single_occurrences(x, y):\n",
    "    occurrences = {}\n",
    "\n",
    "    # Count the occurrences of each element in y\n",
    "    for elem in y:\n",
    "        if elem in occurrences:\n",
    "            occurrences[elem] += 1\n",
    "        else:\n",
    "            occurrences[elem] = 1\n",
    "\n",
    "    # Find elements with only one occurrence\n",
    "    single_occurrences = [elem for elem in y if occurrences[elem] == 1]\n",
    "\n",
    "    # Delete elements and their corresponding elements from x and y\n",
    "    for elem in single_occurrences:\n",
    "        index = y.index(elem)\n",
    "        del x[index]\n",
    "        del y[index]\n",
    "\n",
    "    return x, y"
   ],
   "metadata": {
    "collapsed": false
   }
  },
  {
   "cell_type": "code",
   "execution_count": 8,
   "outputs": [],
   "source": [
    "# Fastai\n",
    "from fastai.vision.all import *\n",
    "from fastbook import *\n",
    "from fastai.vision.data import ImageDataLoaders\n",
    "\n",
    "# Matplotlib\n",
    "import matplotlib.pyplot as plt\n",
    "%matplotlib inline\n",
    "\n",
    "# Pandas\n",
    "import pandas as pd\n",
    "\n",
    "# Pytorch\n",
    "import torchvision\n",
    "\n",
    "# Sklearn\n",
    "from sklearn.metrics import accuracy_score\n",
    "from sklearn.metrics import f1_score\n",
    "from sklearn.metrics import classification_report"
   ],
   "metadata": {
    "collapsed": false
   }
  },
  {
   "cell_type": "code",
   "execution_count": 11,
   "outputs": [
    {
     "name": "stdout",
     "output_type": "stream",
     "text": [
      "Size of x_train: 126381\n",
      "Size of y_train: 126381\n",
      "Size of x_test: 14043\n",
      "Size of y_test: 14043\n"
     ]
    }
   ],
   "source": [
    "from sklearn.model_selection import train_test_split\n",
    "# Load the .npz file\n",
    "\n",
    "data_imgs = np.load('kkanj-imgs.npz')\n",
    "data_labels = np.load('kkanji-labels.npz')\n",
    "\n",
    "# Access the arrays stored in the .npz files\n",
    "imgs = data_imgs['arr_0']\n",
    "labels = data_labels['arr_0']\n",
    "\n",
    "# Splitting the data into training and testing sets\n",
    "#Consider reducing data set to stratify\n",
    "\n",
    "x_train, x_test, y_train, y_test = train_test_split(imgs, labels, test_size=0.1, random_state=42)\n",
    "\n",
    "# Printing the sizes of the resulting sets\n",
    "print(\"Size of x_train:\", len(x_train))\n",
    "print(\"Size of y_train:\", len(y_train))\n",
    "print(\"Size of x_test:\", len(x_test))\n",
    "print(\"Size of y_test:\", len(y_test))"
   ],
   "metadata": {
    "collapsed": false
   }
  },
  {
   "cell_type": "code",
   "execution_count": 12,
   "outputs": [],
   "source": [
    "# Training Parameters\n",
    "VERSION = 'kkanjiHalf150_v7.3'\n",
    "IMAGESIZE = 224\n",
    "VALIDATION_SIZE = 0.3\n",
    "RANDOM_STATE = 2018\n",
    "\n",
    "model_name = 'resnet152'\n",
    "model = getattr(torchvision.models, model_name)\n",
    "\n",
    "# path definieren\n",
    "path = Path('/data/')"
   ],
   "metadata": {
    "collapsed": false
   }
  },
  {
   "cell_type": "code",
   "execution_count": 13,
   "outputs": [],
   "source": [
    "# Load Function\n",
    "def load(f):\n",
    "    return np.load(f, allow_pickle=True)['arr_0']"
   ],
   "metadata": {
    "collapsed": false
   }
  },
  {
   "cell_type": "code",
   "execution_count": 15,
   "outputs": [
    {
     "ename": "ValueError",
     "evalue": "The least populated class in y has only 1 member, which is too few. The minimum number of groups for any class cannot be less than 2.",
     "output_type": "error",
     "traceback": [
      "\u001B[1;31m---------------------------------------------------------------------------\u001B[0m",
      "\u001B[1;31mValueError\u001B[0m                                Traceback (most recent call last)",
      "Cell \u001B[1;32mIn[15], line 6\u001B[0m\n\u001B[0;32m      3\u001B[0m \u001B[38;5;28;01mfrom\u001B[39;00m \u001B[38;5;21;01msklearn\u001B[39;00m\u001B[38;5;21;01m.\u001B[39;00m\u001B[38;5;21;01mmodel_selection\u001B[39;00m \u001B[38;5;28;01mimport\u001B[39;00m StratifiedShuffleSplit\n\u001B[0;32m      4\u001B[0m sss \u001B[38;5;241m=\u001B[39m StratifiedShuffleSplit(n_splits\u001B[38;5;241m=\u001B[39m\u001B[38;5;241m1\u001B[39m, test_size\u001B[38;5;241m=\u001B[39mVALIDATION_SIZE, random_state\u001B[38;5;241m=\u001B[39mRANDOM_STATE)\n\u001B[1;32m----> 6\u001B[0m \u001B[38;5;28;01mfor\u001B[39;00m train_index, test_index \u001B[38;5;129;01min\u001B[39;00m sss\u001B[38;5;241m.\u001B[39msplit(x_train, y_train):\n\u001B[0;32m      7\u001B[0m     X_trainfin, X_testfin \u001B[38;5;241m=\u001B[39m x_train[train_index], x_train[test_index]\n\u001B[0;32m      8\u001B[0m     y_trainfin, y_testfin \u001B[38;5;241m=\u001B[39m y_train[train_index], y_train[test_index]\n",
      "File \u001B[1;32m~\\AppData\\Local\\Programs\\Python\\Python39\\lib\\site-packages\\sklearn\\model_selection\\_split.py:1689\u001B[0m, in \u001B[0;36mBaseShuffleSplit.split\u001B[1;34m(self, X, y, groups)\u001B[0m\n\u001B[0;32m   1659\u001B[0m \u001B[38;5;250m\u001B[39m\u001B[38;5;124;03m\"\"\"Generate indices to split data into training and test set.\u001B[39;00m\n\u001B[0;32m   1660\u001B[0m \n\u001B[0;32m   1661\u001B[0m \u001B[38;5;124;03mParameters\u001B[39;00m\n\u001B[1;32m   (...)\u001B[0m\n\u001B[0;32m   1686\u001B[0m \u001B[38;5;124;03mto an integer.\u001B[39;00m\n\u001B[0;32m   1687\u001B[0m \u001B[38;5;124;03m\"\"\"\u001B[39;00m\n\u001B[0;32m   1688\u001B[0m X, y, groups \u001B[38;5;241m=\u001B[39m indexable(X, y, groups)\n\u001B[1;32m-> 1689\u001B[0m \u001B[38;5;28;01mfor\u001B[39;00m train, test \u001B[38;5;129;01min\u001B[39;00m \u001B[38;5;28mself\u001B[39m\u001B[38;5;241m.\u001B[39m_iter_indices(X, y, groups):\n\u001B[0;32m   1690\u001B[0m     \u001B[38;5;28;01myield\u001B[39;00m train, test\n",
      "File \u001B[1;32m~\\AppData\\Local\\Programs\\Python\\Python39\\lib\\site-packages\\sklearn\\model_selection\\_split.py:2078\u001B[0m, in \u001B[0;36mStratifiedShuffleSplit._iter_indices\u001B[1;34m(self, X, y, groups)\u001B[0m\n\u001B[0;32m   2076\u001B[0m class_counts \u001B[38;5;241m=\u001B[39m np\u001B[38;5;241m.\u001B[39mbincount(y_indices)\n\u001B[0;32m   2077\u001B[0m \u001B[38;5;28;01mif\u001B[39;00m np\u001B[38;5;241m.\u001B[39mmin(class_counts) \u001B[38;5;241m<\u001B[39m \u001B[38;5;241m2\u001B[39m:\n\u001B[1;32m-> 2078\u001B[0m     \u001B[38;5;28;01mraise\u001B[39;00m \u001B[38;5;167;01mValueError\u001B[39;00m(\n\u001B[0;32m   2079\u001B[0m         \u001B[38;5;124m\"\u001B[39m\u001B[38;5;124mThe least populated class in y has only 1\u001B[39m\u001B[38;5;124m\"\u001B[39m\n\u001B[0;32m   2080\u001B[0m         \u001B[38;5;124m\"\u001B[39m\u001B[38;5;124m member, which is too few. The minimum\u001B[39m\u001B[38;5;124m\"\u001B[39m\n\u001B[0;32m   2081\u001B[0m         \u001B[38;5;124m\"\u001B[39m\u001B[38;5;124m number of groups for any class cannot\u001B[39m\u001B[38;5;124m\"\u001B[39m\n\u001B[0;32m   2082\u001B[0m         \u001B[38;5;124m\"\u001B[39m\u001B[38;5;124m be less than 2.\u001B[39m\u001B[38;5;124m\"\u001B[39m\n\u001B[0;32m   2083\u001B[0m     )\n\u001B[0;32m   2085\u001B[0m \u001B[38;5;28;01mif\u001B[39;00m n_train \u001B[38;5;241m<\u001B[39m n_classes:\n\u001B[0;32m   2086\u001B[0m     \u001B[38;5;28;01mraise\u001B[39;00m \u001B[38;5;167;01mValueError\u001B[39;00m(\n\u001B[0;32m   2087\u001B[0m         \u001B[38;5;124m\"\u001B[39m\u001B[38;5;124mThe train_size = \u001B[39m\u001B[38;5;132;01m%d\u001B[39;00m\u001B[38;5;124m should be greater or \u001B[39m\u001B[38;5;124m\"\u001B[39m\n\u001B[0;32m   2088\u001B[0m         \u001B[38;5;124m\"\u001B[39m\u001B[38;5;124mequal to the number of classes = \u001B[39m\u001B[38;5;132;01m%d\u001B[39;00m\u001B[38;5;124m\"\u001B[39m \u001B[38;5;241m%\u001B[39m (n_train, n_classes)\n\u001B[0;32m   2089\u001B[0m     )\n",
      "\u001B[1;31mValueError\u001B[0m: The least populated class in y has only 1 member, which is too few. The minimum number of groups for any class cannot be less than 2."
     ]
    }
   ],
   "source": [
    "\n",
    "# StratifiedShuffleSplit for the dataloaders object. This ensures that test and validation dataset include all Kanji characters\n",
    "find_single_occurences()\n",
    "\n",
    "\n",
    "from sklearn.model_selection import StratifiedShuffleSplit\n",
    "sss = StratifiedShuffleSplit(n_splits=1, test_size=VALIDATION_SIZE, random_state=RANDOM_STATE)\n",
    "\n",
    "for train_index, test_index in sss.split(x_train, y_train):\n",
    "    X_trainfin, X_testfin = x_train[train_index], x_train[test_index]\n",
    "    y_trainfin, y_testfin = y_train[train_index], y_train[test_index]"
   ],
   "metadata": {
    "collapsed": false
   }
  },
  {
   "cell_type": "code",
   "execution_count": 19,
   "outputs": [
    {
     "ename": "NameError",
     "evalue": "name 'test_index' is not defined",
     "output_type": "error",
     "traceback": [
      "\u001B[1;31m---------------------------------------------------------------------------\u001B[0m",
      "\u001B[1;31mNameError\u001B[0m                                 Traceback (most recent call last)",
      "Cell \u001B[1;32mIn[19], line 28\u001B[0m\n\u001B[0;32m     24\u001B[0m     dls \u001B[38;5;241m=\u001B[39m dblock\u001B[38;5;241m.\u001B[39mdataloaders(\u001B[38;5;28mlist\u001B[39m(\u001B[38;5;28mrange\u001B[39m(num_images)))\n\u001B[0;32m     26\u001B[0m     \u001B[38;5;28;01mreturn\u001B[39;00m dls\n\u001B[1;32m---> 28\u001B[0m dls \u001B[38;5;241m=\u001B[39m \u001B[43mmake_dataloaders_from_numpy_data\u001B[49m\u001B[43m(\u001B[49m\u001B[43mx_train\u001B[49m\u001B[43m,\u001B[49m\u001B[43m \u001B[49m\u001B[43my_train\u001B[49m\u001B[43m)\u001B[49m\n",
      "Cell \u001B[1;32mIn[19], line 15\u001B[0m, in \u001B[0;36mmake_dataloaders_from_numpy_data\u001B[1;34m(image, label)\u001B[0m\n\u001B[0;32m      9\u001B[0m \u001B[38;5;28;01mdef\u001B[39;00m \u001B[38;5;21mget_y\u001B[39m(i):\n\u001B[0;32m     10\u001B[0m     \u001B[38;5;28;01mreturn\u001B[39;00m label[i]\n\u001B[0;32m     12\u001B[0m dblock \u001B[38;5;241m=\u001B[39m DataBlock(\n\u001B[0;32m     13\u001B[0m     blocks\u001B[38;5;241m=\u001B[39m(ImageBlock, CategoryBlock),\n\u001B[0;32m     14\u001B[0m     get_items\u001B[38;5;241m=\u001B[39mpass_index,\n\u001B[1;32m---> 15\u001B[0m     splitter\u001B[38;5;241m=\u001B[39mIndexSplitter(\u001B[43mtest_index\u001B[49m), \u001B[38;5;66;03m# stratified split\u001B[39;00m\n\u001B[0;32m     16\u001B[0m     get_x\u001B[38;5;241m=\u001B[39mget_x,\n\u001B[0;32m     17\u001B[0m     get_y\u001B[38;5;241m=\u001B[39mget_y,\n\u001B[0;32m     18\u001B[0m     item_tfms \u001B[38;5;241m=\u001B[39m Resize(IMAGESIZE),\n\u001B[0;32m     19\u001B[0m     batch_tfms\u001B[38;5;241m=\u001B[39maug_transforms(do_flip\u001B[38;5;241m=\u001B[39m\u001B[38;5;28;01mFalse\u001B[39;00m, p_affine\u001B[38;5;241m=\u001B[39m\u001B[38;5;241m1\u001B[39m)\n\u001B[0;32m     20\u001B[0m     )\n\u001B[0;32m     22\u001B[0m \u001B[38;5;66;03m# pass in a list of index\u001B[39;00m\n\u001B[0;32m     23\u001B[0m num_images \u001B[38;5;241m=\u001B[39m image\u001B[38;5;241m.\u001B[39mshape[\u001B[38;5;241m0\u001B[39m]\n",
      "\u001B[1;31mNameError\u001B[0m: name 'test_index' is not defined"
     ]
    }
   ],
   "source": [
    "# Code is based on http://nghiaho.com/?p=2741\n",
    "def make_dataloaders_from_numpy_data(image, label):\n",
    "    def pass_index(idx):\n",
    "        return idx\n",
    "\n",
    "    def get_x(i):\n",
    "        return image[i]\n",
    "\n",
    "    def get_y(i):\n",
    "        return label[i]\n",
    "\n",
    "    dblock = DataBlock(\n",
    "        blocks=(ImageBlock, CategoryBlock),\n",
    "        get_items=pass_index,\n",
    "        splitter=IndexSplitter(test_index), # stratified split\n",
    "        get_x=get_x,\n",
    "        get_y=get_y,\n",
    "        item_tfms = Resize(IMAGESIZE),\n",
    "        batch_tfms=aug_transforms(do_flip=False, p_affine=1)\n",
    "        )\n",
    "\n",
    "    # pass in a list of index\n",
    "    num_images = image.shape[0]\n",
    "    dls = dblock.dataloaders(list(range(num_images)))\n",
    "\n",
    "    return dls\n",
    "\n",
    "dls = make_dataloaders_from_numpy_data(x_train, y_train)"
   ],
   "metadata": {
    "collapsed": false
   }
  },
  {
   "cell_type": "code",
   "execution_count": null,
   "outputs": [],
   "source": [
    "# Create a Learner object\n",
    "learn = cnn_learner(dls, model, metrics=error_rate)"
   ],
   "metadata": {
    "collapsed": false
   }
  },
  {
   "cell_type": "code",
   "execution_count": null,
   "outputs": [],
   "source": [
    "\n",
    "# Train a model for 10 epochs\n",
    "learn.fit_one_cycle(10, lr_max=0.01)\n",
    "learn.save(str(path) + '/model/' + VERSION)"
   ],
   "metadata": {
    "collapsed": false
   }
  }
 ],
 "metadata": {
  "kernelspec": {
   "display_name": "Python 3",
   "language": "python",
   "name": "python3"
  },
  "language_info": {
   "codemirror_mode": {
    "name": "ipython",
    "version": 2
   },
   "file_extension": ".py",
   "mimetype": "text/x-python",
   "name": "python",
   "nbconvert_exporter": "python",
   "pygments_lexer": "ipython2",
   "version": "2.7.6"
  }
 },
 "nbformat": 4,
 "nbformat_minor": 0
}
