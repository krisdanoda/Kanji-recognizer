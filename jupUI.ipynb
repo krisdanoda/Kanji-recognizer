{
 "cells": [
  {
   "cell_type": "code",
   "execution_count": 1,
   "metadata": {},
   "outputs": [
    {
     "name": "stdout",
     "output_type": "stream",
     "text": [
      "WELCOME TO KANJI RECOGNIZER :D´\n",
      "\n",
      "What would you like to do?:\n",
      "-Test your skills -> Type 1\n",
      "-Get translation of a kanji symbol -> Type 2\n",
      "-Show Full History -> Type 3\n",
      "-Show Specific History -> Type 4\n",
      "-Clear history -> Type 'clear'\n",
      "(Type C to shut down)\n",
      "\n",
      "You have chosen to test your skills\n",
      "\n",
      "Can you draw this kanji:  不\n",
      "Click on this link to see a better rendition: https://www.compart.com/en/unicode/U+4E0D\n",
      "\n",
      "It may take some time to open the canvas, please be patient\n",
      "\n",
      "Saving image...\n",
      "Your image is being recognized...\n",
      "\n",
      "1/1 [==============================] - 0s 241ms/step\b\b\b\b\b\b\b\b\b\b\b\b\b\b\b\b\b\b\b\b\b\b\b\b\b\b\b\b\b\b\b\b\b\b\b\b\b\b\b\b\n",
      "True\n",
      "Accuracy saved to file 0.4321207758039236\n",
      "You drew 不 with an accuracy of 0.43%\n",
      "WELCOME TO KANJI RECOGNIZER :D´\n",
      "\n",
      "What would you like to do?:\n",
      "-Test your skills -> Type 1\n",
      "-Get translation of a kanji symbol -> Type 2\n",
      "-Show Full History -> Type 3\n",
      "-Show Specific History -> Type 4\n",
      "-Clear history -> Type 'clear'\n",
      "(Type C to shut down)\n",
      "\n",
      "MAKE A CORRECT CHOICE\n",
      "WELCOME TO KANJI RECOGNIZER :D´\n",
      "\n",
      "What would you like to do?:\n",
      "-Test your skills -> Type 1\n",
      "-Get translation of a kanji symbol -> Type 2\n",
      "-Show Full History -> Type 3\n",
      "-Show Specific History -> Type 4\n",
      "-Clear history -> Type 'clear'\n",
      "(Type C to shut down)\n",
      "\n",
      "MAKE A CORRECT CHOICE\n",
      "WELCOME TO KANJI RECOGNIZER :D´\n",
      "\n",
      "What would you like to do?:\n",
      "-Test your skills -> Type 1\n",
      "-Get translation of a kanji symbol -> Type 2\n",
      "-Show Full History -> Type 3\n",
      "-Show Specific History -> Type 4\n",
      "-Clear history -> Type 'clear'\n",
      "(Type C to shut down)\n",
      "\n",
      "Your history has been saved to accuracy_history.csv.\n",
      "SHUT DOWN\n"
     ]
    },
    {
     "data": {
      "text/plain": "<Figure size 640x480 with 1 Axes>",
      "image/png": "[encoded data removed]"
     },
     "metadata": {},
     "output_type": "display_data"
    }
   ],
   "source": [
    "import UI"
   ]
  }
 ],
 "metadata": {
  "kernelspec": {
   "display_name": "base",
   "language": "python",
   "name": "python3"
  },
  "language_info": {
   "codemirror_mode": {
    "name": "ipython",
    "version": 3
   },
   "file_extension": ".py",
   "mimetype": "text/x-python",
   "name": "python",
   "nbconvert_exporter": "python",
   "pygments_lexer": "ipython3",
   "version": "3.10.6"
  },
  "orig_nbformat": 4
 },
 "nbformat": 4,
 "nbformat_minor": 2
}