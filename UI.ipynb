{
 "cells": [
  {
   "cell_type": "code",
   "execution_count": 1,
   "metadata": {},
   "outputs": [
    {
     "name": "stderr",
     "output_type": "stream",
     "text": [
      "2023-05-19 08:56:38.548889: I tensorflow/core/platform/cpu_feature_guard.cc:193] This TensorFlow binary is optimized with oneAPI Deep Neural Network Library (oneDNN) to use the following CPU instructions in performance-critical operations:  AVX2 FMA\n",
      "To enable them in other operations, rebuild TensorFlow with the appropriate compiler flags.\n",
      "2023-05-19 08:56:38.831177: W tensorflow/compiler/xla/stream_executor/platform/default/dso_loader.cc:64] Could not load dynamic library 'libcudart.so.11.0'; dlerror: libcudart.so.11.0: cannot open shared object file: No such file or directory; LD_LIBRARY_PATH: /opt/conda/lib/python3.10/site-packages/cv2/../../lib64:\n",
      "2023-05-19 08:56:38.831294: I tensorflow/compiler/xla/stream_executor/cuda/cudart_stub.cc:29] Ignore above cudart dlerror if you do not have a GPU set up on your machine.\n",
      "2023-05-19 08:56:40.009451: W tensorflow/compiler/xla/stream_executor/platform/default/dso_loader.cc:64] Could not load dynamic library 'libnvinfer.so.7'; dlerror: libnvinfer.so.7: cannot open shared object file: No such file or directory; LD_LIBRARY_PATH: /opt/conda/lib/python3.10/site-packages/cv2/../../lib64:\n",
      "2023-05-19 08:56:40.009614: W tensorflow/compiler/xla/stream_executor/platform/default/dso_loader.cc:64] Could not load dynamic library 'libnvinfer_plugin.so.7'; dlerror: libnvinfer_plugin.so.7: cannot open shared object file: No such file or directory; LD_LIBRARY_PATH: /opt/conda/lib/python3.10/site-packages/cv2/../../lib64:\n",
      "2023-05-19 08:56:40.009628: W tensorflow/compiler/tf2tensorrt/utils/py_utils.cc:38] TF-TRT Warning: Cannot dlopen some TensorRT libraries. If you would like to use Nvidia GPU with TensorRT, please make sure the missing libraries mentioned above are installed properly.\n"
     ]
    }
   ],
   "source": [
    "import input_image\n",
    "import accuracyHistory"
   ]
  },
  {
   "cell_type": "code",
   "execution_count": 2,
   "metadata": {},
   "outputs": [],
   "source": [
    "def translate_kanji():\n",
    "    print(\"Make sure you have placed your image in the input_images folder\\n\")\n",
    "    input(\"Confirm that you have placed your image correctly\")\n",
    "    print(\"Your image is being recognized...\\n\")\n",
    "    image_output_list = input_image.give_image_meaning()\n",
    "    print(f\"\\nWe recognized your image as: {image_output_list[0]}\\n\")\n",
    "    print(\"It translates to:\")\n",
    "    for item in image_output_list[1]:\n",
    "        print(item)"
   ]
  },
  {
   "cell_type": "code",
   "execution_count": 3,
   "metadata": {},
   "outputs": [],
   "source": [
    "def test_skills():\n",
    "    print(\"Can you draw this kanji: \")\n",
    "    print(\"Click on this link to see a better rendition: \\n\")\n",
    "    \n",
    "    print(\"Make sure you have placed your image in the input_images folder\\n\")\n",
    "    input(\"Confirm that you have placed your image correctly\")\n",
    "    \n",
    "    print(\"Your image is being recognized...\\n\")\n",
    "    image_output_list = input_image.give_image_meaning()\n",
    "\n",
    "    print(f'You drew {image_output_list[0]} with an accuracy of {image_output_list[2]}%')\n",
    "    accuracyHistory.display_accuracy()"
   ]
  },
  {
   "cell_type": "code",
   "execution_count": 4,
   "metadata": {},
   "outputs": [
    {
     "name": "stdout",
     "output_type": "stream",
     "text": [
      "WELCOME TO KANJI RECOGNIZER :D´\n",
      "\n",
      "What would you like to do?:\n",
      "-Test your skills -> Type 1\n",
      "-Get translation of a kanji symbol -> Type 2\n",
      "(Type C to shut down)\n",
      "\n",
      "You have chosen to test your skills\n",
      "\n",
      "Can you draw this kanji: \n",
      "Click on this link to see a better rendition: \n",
      "\n",
      "Make sure you have placed your image in the input_images folder\n",
      "\n",
      "Your image is being recognized...\n",
      "\n"
     ]
    },
    {
     "name": "stderr",
     "output_type": "stream",
     "text": [
      "2023-05-19 08:56:44.838297: W tensorflow/compiler/xla/stream_executor/platform/default/dso_loader.cc:64] Could not load dynamic library 'libcuda.so.1'; dlerror: libcuda.so.1: cannot open shared object file: No such file or directory; LD_LIBRARY_PATH: /opt/conda/lib/python3.10/site-packages/cv2/../../lib64:\n",
      "2023-05-19 08:56:44.838401: W tensorflow/compiler/xla/stream_executor/cuda/cuda_driver.cc:265] failed call to cuInit: UNKNOWN ERROR (303)\n",
      "2023-05-19 08:56:44.838430: I tensorflow/compiler/xla/stream_executor/cuda/cuda_diagnostics.cc:156] kernel driver does not appear to be running on this host (108bb72cdfce): /proc/driver/nvidia/version does not exist\n",
      "2023-05-19 08:56:44.838720: I tensorflow/core/platform/cpu_feature_guard.cc:193] This TensorFlow binary is optimized with oneAPI Deep Neural Network Library (oneDNN) to use the following CPU instructions in performance-critical operations:  AVX2 FMA\n",
      "To enable them in other operations, rebuild TensorFlow with the appropriate compiler flags.\n"
     ]
    },
    {
     "name": "stdout",
     "output_type": "stream",
     "text": [
      "1/1 [==============================] - 0s 265ms/step\n",
      "(0, 0, 'U+4C99', 27.397269010543823)\n",
      "You drew 䲙 with an accuracy of 27.397269010543823%\n"
     ]
    },
    {
     "data": {
      "image/png": "[encoded data removed]",
      "text/plain": [
       "<Figure size 640x480 with 1 Axes>"
      ]
     },
     "metadata": {},
     "output_type": "display_data"
    },
    {
     "name": "stdout",
     "output_type": "stream",
     "text": [
      "WELCOME TO KANJI RECOGNIZER :D´\n",
      "\n",
      "What would you like to do?:\n",
      "-Test your skills -> Type 1\n",
      "-Get translation of a kanji symbol -> Type 2\n",
      "(Type C to shut down)\n",
      "\n",
      "SHUT DOWN\n"
     ]
    }
   ],
   "source": [
    "\n",
    "no_shutdown = True\n",
    "while no_shutdown:\n",
    "    print(\"WELCOME TO KANJI RECOGNIZER :D´\\n\")\n",
    "    print(\"What would you like to do?:\\n-Test your skills -> Type 1\\n-Get translation of a kanji symbol -> Type 2\\n(Type C to shut down)\\n\")\n",
    "    choice = input(\"Type your choice here!\")\n",
    "\n",
    "    if (choice == \"1\"):\n",
    "        print(\"You have chosen to test your skills\\n\")    \n",
    "        test_skills()\n",
    "        \n",
    "    elif (choice == \"2\"):\n",
    "        print(\"You have chosen to translate a kanji symbol\\n\")\n",
    "        translate_kanji()\n",
    "        \n",
    "    elif (choice in [\"c\", \"C\"]):\n",
    "        no_shutdown = False\n",
    "        \n",
    "    else:\n",
    "        print(\"MAKE A CORRECT CHOICE\")\n",
    "\n",
    "print(\"SHUT DOWN\")\n"
   ]
  }
 ],
 "metadata": {
  "kernelspec": {
   "display_name": "base",
   "language": "python",
   "name": "python3"
  },
  "language_info": {
   "codemirror_mode": {
    "name": "ipython",
    "version": 3
   },
   "file_extension": ".py",
   "mimetype": "text/x-python",
   "name": "python",
   "nbconvert_exporter": "python",
   "pygments_lexer": "ipython3",
   "version": "3.10.6"
  },
  "orig_nbformat": 4
 },
 "nbformat": 4,
 "nbformat_minor": 2
}
