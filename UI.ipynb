{
 "cells": [
  {
   "cell_type": "code",
   "execution_count": 13,
   "metadata": {},
   "outputs": [],
   "source": [
    "import input_image\n",
    "import accuracy_history\n",
    "import helper_functions"
   ]
  },
  {
   "cell_type": "code",
   "execution_count": 14,
   "metadata": {},
   "outputs": [],
   "source": [
    "def translate_kanji():\n",
    "    print(\"Make sure you have placed your image in the input_images folder\\n\")\n",
    "    input(\"Confirm that you have placed your image correctly\")\n",
    "    print(\"Your image is being recognized...\\n\")\n",
    "    image_output_list = input_image.give_image_meaning()\n",
    "    print(f\"\\nWe recognized your image as: {image_output_list[0]}\\n\")\n",
    "    print(\"It translates to:\")\n",
    "    for item in image_output_list[1]:\n",
    "        print(item)"
   ]
  },
  {
   "cell_type": "code",
   "execution_count": 15,
   "metadata": {},
   "outputs": [],
   "source": [
    "def show_history_options():\n",
    "    accuracy_history.kanji_list()"
   ]
  },
  {
   "cell_type": "code",
   "execution_count": 16,
   "metadata": {},
   "outputs": [],
   "source": [
    "def test_skills():\n",
    "    print(\"Can you draw this kanji: \")\n",
    "    print(\"Click on this link to see a better rendition: \\n\")\n",
    "    \n",
    "    print(\"Make sure you have placed your image in the input_images folder\\n\")\n",
    "    input(\"Confirm that you have placed your image correctly\")\n",
    "    \n",
    "    print(\"Your image is being recognized...\\n\")\n",
    "    image_output_list = input_image.give_image_meaning()\n",
    "\n",
    "    print(f'You drew {image_output_list[0]} with an accuracy of {image_output_list[2]}%')"
   ]
  },
  {
   "cell_type": "code",
   "execution_count": 17,
   "metadata": {},
   "outputs": [],
   "source": [
    "def accuracy_plot():\n",
    "    accuracy_history.display_accuracy()"
   ]
  },
  {
   "cell_type": "code",
   "execution_count": 18,
   "metadata": {},
   "outputs": [
    {
     "name": "stdout",
     "output_type": "stream",
     "text": [
      "WELCOME TO KANJI RECOGNIZER :D´\n",
      "\n",
      "What would you like to do?:\n",
      "-Test your skills -> Type 1\n",
      "-Get translation of a kanji symbol -> Type 2\n",
      "-Show Full History -> Type 3\n",
      "-Show Specific History -> Type 4\n",
      "-Clear history -> Type 'clear'\n",
      "(Type C to shut down)\n",
      "\n",
      "MAKE A CORRECT CHOICE\n",
      "WELCOME TO KANJI RECOGNIZER :D´\n",
      "\n",
      "What would you like to do?:\n",
      "-Test your skills -> Type 1\n",
      "-Get translation of a kanji symbol -> Type 2\n",
      "-Show Full History -> Type 3\n",
      "-Show Specific History -> Type 4\n",
      "-Clear history -> Type 'clear'\n",
      "(Type C to shut down)\n",
      "\n",
      "You have chosen to see your history of a specific Kanji\n",
      "\n",
      "Type which character you wish to see the history of\n",
      "['U+4E00', 'U+4E01', 'U+4E02', 'U+4E03', 'U+4E04', 'U+4E05', 'U+4E06', 'U+4E07']\n",
      "options\n",
      "['U+4E00', 'U+4E01', 'U+4E02', 'U+4E03', 'U+4E04', 'U+4E05', 'U+4E06', 'U+4E07']\n",
      "sign_to_check\n",
      "3\n",
      "options advanced: \n",
      "U+4E02\n"
     ]
    },
    {
     "data": {
      "image/png": "[encoded data removed]",
      "text/plain": [
       "<Figure size 640x480 with 1 Axes>"
      ]
     },
     "metadata": {},
     "output_type": "display_data"
    }
   ],
   "source": [
    "\n",
    "no_shutdown = True\n",
    "accuracy_history.load_history()\n",
    "while no_shutdown:\n",
    "\n",
    "    print(\"WELCOME TO KANJI RECOGNIZER :D´\\n\")\n",
    "    print(\"What would you like to do?:\\n-Test your skills -> Type 1\\n-Get translation of a kanji symbol -> Type 2\\n-Show Full History -> Type 3\\n-Show Specific History -> Type 4\\n-Clear history -> Type 'clear'\\n(Type C to shut down)\\n\")\n",
    "    choice = input(\"Type your choice here!\")\n",
    "\n",
    "    if (choice == \"1\"):\n",
    "        print(\"You have chosen to test your skills\\n\")    \n",
    "        test_skills()\n",
    "        \n",
    "    elif (choice == \"2\"):\n",
    "        print(\"You have chosen to translate a kanji symbol\\n\")\n",
    "        translate_kanji()\n",
    "\n",
    "    elif (choice == \"3\"):\n",
    "        print(\"Accuracy history: \")\n",
    "        accuracy_plot()\n",
    "\n",
    "    elif (choice == \"4\"):\n",
    "        print(\"You have chosen to see your history of a specific Kanji\\n\")\n",
    "        print(\"Type which character you wish to see the history of\")\n",
    "        options = accuracy_history.kanji_list()\n",
    "        options = list(options)\n",
    "        print(options)\n",
    "        sign_to_check = input('')\n",
    "        print(\"options\")\n",
    "        print(options)\n",
    "        print(\"sign_to_check\")\n",
    "        print(sign_to_check)\n",
    "        try:\n",
    "            sign_to_check = int(sign_to_check)\n",
    "            print(\"options advanced: \")\n",
    "            print(options[sign_to_check-1])\n",
    "            accuracy_history.display_specific_accuracy(options[sign_to_check-1])\n",
    "        except:\n",
    "            print(\"Sign not found!\")\n",
    "\n",
    "    elif (choice.lower() == \"clear\"):\n",
    "        print(\"Are you sure you wish to clear your history?\\n\")\n",
    "        print(\"If you are, type 'yes'\")\n",
    "        second_choice = input('')\n",
    "        if (second_choice == \"yes\"):\n",
    "            accuracy_history.clear_history()\n",
    "            print(\"Your history has been cleared\")\n",
    "        else:\n",
    "            print(\"Your history has NOT been cleared\")\n",
    "            second_choice = ''\n",
    "        \n",
    "    elif (choice in [\"c\", \"C\"]):\n",
    "        \n",
    "        accuracy_history.save_history()\n",
    "        no_shutdown = False\n",
    "        \n",
    "    else:\n",
    "        print(\"MAKE A CORRECT CHOICE\")\n",
    "\n",
    "print(\"SHUT DOWN\")\n"
   ]
  }
 ],
 "metadata": {
  "kernelspec": {
   "display_name": "base",
   "language": "python",
   "name": "python3"
  },
  "language_info": {
   "codemirror_mode": {
    "name": "ipython",
    "version": 3
   },
   "file_extension": ".py",
   "mimetype": "text/x-python",
   "name": "python",
   "nbconvert_exporter": "python",
   "pygments_lexer": "ipython3",
   "version": "3.10.6"
  },
  "orig_nbformat": 4
 },
 "nbformat": 4,
 "nbformat_minor": 2
}
