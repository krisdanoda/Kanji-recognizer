{
 "cells": [
  {
   "cell_type": "code",
   "execution_count": null,
   "metadata": {},
   "outputs": [],
   "source": [
    "import input_image\n",
    "import accuracy_history\n",
    "import helper_functions\n",
    "import pathlib\n",
    "from pathlib import Path\n",
    "\n",
    "def list_directory(path):\n",
    "    imgs = []\n",
    "    for index, img in enumerate(Path(path).iterdir(), start=1):\n",
    "        print(\"{}. {}\".format(index , img))\n",
    "        imgs.append(img)\n",
    "    return imgs"
   ]
  },
  {
   "cell_type": "code",
   "execution_count": null,
   "metadata": {},
   "outputs": [],
   "source": [
    "def translate_kanji():\n",
    "    imgs = list_directory(\"input_images\")\n",
    "    print(\"Make sure you have placed your image in the input_images folder\\n\")\n",
    "\n",
    "    while True:\n",
    "        picked_kanji = input(\"Choose which file you want to interperet. Confirm that you have placed your image correctly.\")\n",
    "        picked_kanji = int(picked_kanji)\n",
    "        if picked_kanji > 0 and picked_kanji <=  len(imgs)+1:\n",
    "            print(\"Your image is being recognized...\\n\")\n",
    "            image_output_list = input_image.give_image_meaning(picked_kanji-1)\n",
    "            print(f\"\\nWe recognized your image as: {image_output_list[0]}\\n\")\n",
    "            print(\"It translates to:\")\n",
    "            for item in image_output_list[1]:\n",
    "                print(item)\n",
    "            return"
   ]
  },
  {
   "cell_type": "code",
   "execution_count": null,
   "metadata": {},
   "outputs": [],
   "source": [
    "def display_accuracy():\n",
    "    print(\"Type which character you wish to see the history of\")\n",
    "    options = accuracy_history.kanji_list()\n",
    "    print(\"----------------\")\n",
    "    for index, option in enumerate(options, start=1):\n",
    "        print(f'{index} - {option}')\n",
    "    print(\"----------------\")\n",
    "    sign_to_check = input('')\n",
    "    try:\n",
    "        sign_to_check = int(sign_to_check)\n",
    "        selected_option = list(options.values())[sign_to_check - 1]\n",
    "        print(f\"You chose {list(options)[sign_to_check - 1]}\")\n",
    "        accuracy_history.display_specific_accuracy(selected_option)\n",
    "    except:\n",
    "        print(\"Sign not found!\")"
   ]
  },
  {
   "cell_type": "code",
   "execution_count": null,
   "metadata": {},
   "outputs": [],
   "source": [
    "def show_history_options():\n",
    "    accuracy_history.kanji_list()"
   ]
  },
  {
   "cell_type": "code",
   "execution_count": null,
   "metadata": {},
   "outputs": [],
   "source": [
    "def test_skills():\n",
    "    print(\"Can you draw this kanji: \")\n",
    "    print(\"Click on this link to see a better rendition: \\n\")\n",
    "    \n",
    "    print(\"Make sure you have placed your image in the input_images folder\\n\")\n",
    "    input(\"Confirm that you have placed your image correctly\")\n",
    "    \n",
    "    print(\"Your image is being recognized...\\n\")\n",
    "    image_output_list = input_image.give_image_meaning()\n",
    "\n",
    "\n",
    "    print(f'You drew {image_output_list[0]} with an accuracy of {image_output_list[2]}%')"
   ]
  },
  {
   "cell_type": "code",
   "execution_count": null,
   "metadata": {},
   "outputs": [],
   "source": [
    "def clear_history():\n",
    "    print(\"Are you sure you wish to clear your history?\\n\")\n",
    "    print(\"If you are, type 'yes'\")\n",
    "    second_choice = input('')\n",
    "    if (second_choice == \"yes\"):\n",
    "        accuracy_history.clear_history()\n",
    "        print(\"Your history has been cleared\")\n",
    "    else:\n",
    "        print(\"Your history has NOT been cleared\")\n",
    "        second_choice = ''"
   ]
  },
  {
   "cell_type": "code",
   "execution_count": null,
   "metadata": {},
   "outputs": [],
   "source": []
  },
  {
   "cell_type": "code",
   "execution_count": null,
   "metadata": {},
   "outputs": [],
   "source": [
    "\n",
    "no_shutdown = True\n",
    "accuracy_history.load_history()\n",
    "while no_shutdown:\n",
    "\n",
    "    print(\"WELCOME TO KANJI RECOGNIZER :D´\\n\")\n",
    "    print(\"What would you like to do?:\\n-Test your skills -> Type 1\\n-Get translation of a kanji symbol -> Type 2\\n-Show Full History -> Type 3\\n-Show Specific History -> Type 4\\n-Clear history -> Type 'clear'\\n(Type C to shut down)\\n\")\n",
    "    choice = input(\"Type your choice here!\")\n",
    "\n",
    "    if (choice == \"1\"):\n",
    "        print(\"You have chosen to test your skills\\n\")    \n",
    "        test_skills()\n",
    "\n",
    "    elif (choice == \"2\"):\n",
    "        print(\"You have chosen to translate a kanji symbol\\n\")\n",
    "        translate_kanji()\n",
    "\n",
    "    elif (choice == \"3\"):\n",
    "        print(\"Accuracy history: \")\n",
    "        accuracy_history.display_accuracy()\n",
    "\n",
    "    elif (choice == \"4\"):\n",
    "        print(\"You have chosen to see your history of a specific Kanji\\n\")\n",
    "        display_accuracy()\n",
    "\n",
    "    elif (choice.lower() == \"clear\"):\n",
    "        print(\"You have chosen to clear your history\")\n",
    "        clear_history()\n",
    "\n",
    "    elif (choice in [\"c\", \"C\"]):\n",
    "        \n",
    "        accuracy_history.save_history()\n",
    "        no_shutdown = False\n",
    "        \n",
    "    else:\n",
    "        print(\"MAKE A CORRECT CHOICE\")\n",
    "\n",
    "print(\"SHUT DOWN\")\n"
   ]
  }
 ],
 "metadata": {
  "kernelspec": {
   "display_name": "Python 3 (ipykernel)",
   "language": "python",
   "name": "python3"
  },
  "language_info": {
   "codemirror_mode": {
    "name": "ipython",
    "version": 3
   },
   "file_extension": ".py",
   "mimetype": "text/x-python",
   "name": "python",
   "nbconvert_exporter": "python",
   "pygments_lexer": "ipython3",
   "version": "3.9.5"
  }
 },
 "nbformat": 4,
 "nbformat_minor": 2
}