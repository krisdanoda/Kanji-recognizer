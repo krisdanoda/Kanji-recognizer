{
 "cells": [
  {
   "cell_type": "code",
   "execution_count": 24,
   "metadata": {},
   "outputs": [],
   "source": [
    "import input_image"
   ]
  },
  {
   "cell_type": "code",
   "execution_count": 25,
   "metadata": {},
   "outputs": [],
   "source": [
    "def translate_kanji():\n",
    "    print(\"Make sure you have placed your image in the input_images folder\\n\")\n",
    "    input(\"Confirm that you have placed your image correctly\")\n",
    "    print(\"Your image is being recognized...\\n\")\n",
    "    image_output_list = input_image.give_image_meaning()\n",
    "    print(f\"\\nWe recognized your image as: {image_output_list[0]}\\n\")\n",
    "    print(\"It translates to:\")\n",
    "    for item in image_output_list[1]:\n",
    "        print(item)"
   ]
  },
  {
   "cell_type": "code",
   "execution_count": 26,
   "metadata": {},
   "outputs": [],
   "source": [
    "def test_skills():\n",
    "    print(\"Can you draw this kanji: \")\n",
    "    print(\"Click on this link to see a better rendition: \\n\")\n",
    "    \n",
    "    print(\"Make sure you have placed your image in the input_images folder\\n\")\n",
    "    input(\"Confirm that you have placed your image correctly\")\n",
    "    \n",
    "    print(\"Your image is being recognized...\\n\")\n",
    "    image_output_list = input_image.give_image_meaning()"
   ]
  },
  {
   "cell_type": "code",
   "execution_count": 27,
   "metadata": {},
   "outputs": [
    {
     "name": "stdout",
     "output_type": "stream",
     "text": [
      "WELCOME TO KANJI RECOGNIZER :D´\n",
      "\n",
      "What would you like to do?:\n",
      "-Test your skills -> Type 1\n",
      "-Get translation of a kanji symbol -> Type 2\n",
      "(Type C to restart)\n",
      "\n",
      "You have chosen to test your skills\n",
      "\n",
      "Can you draw this kanji: \n",
      "Click on this link to see a better rendition: \n",
      "\n",
      "Make sure you have placed your image in the input_images folder\n",
      "\n",
      "Your image is being recognized...\n",
      "\n",
      "1/1 [==============================] - 0s 56ms/step\n",
      "WELCOME TO KANJI RECOGNIZER :D´\n",
      "\n",
      "What would you like to do?:\n",
      "-Test your skills -> Type 1\n",
      "-Get translation of a kanji symbol -> Type 2\n",
      "(Type C to restart)\n",
      "\n",
      "SHUT DOWN\n"
     ]
    }
   ],
   "source": [
    "\n",
    "no_shutdown = True\n",
    "while no_shutdown:\n",
    "    print(\"WELCOME TO KANJI RECOGNIZER :D´\\n\")\n",
    "    print(\"What would you like to do?:\\n-Test your skills -> Type 1\\n-Get translation of a kanji symbol -> Type 2\\n(Type C to restart)\\n\")\n",
    "    choice = input(\"Type your choice here!\")\n",
    "\n",
    "    if (choice == \"1\"):\n",
    "        print(\"You have chosen to test your skills\\n\")    \n",
    "        test_skills()\n",
    "        \n",
    "    elif (choice == \"2\"):\n",
    "        print(\"You have chosen to translate a kanji symbol\\n\")\n",
    "        translate_kanji()\n",
    "        \n",
    "    elif (choice in [\"c\", \"C\"]):\n",
    "        no_shutdown = False\n",
    "        \n",
    "    else:\n",
    "        print(\"MAKE A CORRECT CHOICE\")\n",
    "\n",
    "print(\"SHUT DOWN\")\n"
   ]
  }
 ],
 "metadata": {
  "kernelspec": {
   "display_name": "base",
   "language": "python",
   "name": "python3"
  },
  "language_info": {
   "codemirror_mode": {
    "name": "ipython",
    "version": 3
   },
   "file_extension": ".py",
   "mimetype": "text/x-python",
   "name": "python",
   "nbconvert_exporter": "python",
   "pygments_lexer": "ipython3",
   "version": "3.10.6"
  },
  "orig_nbformat": 4
 },
 "nbformat": 4,
 "nbformat_minor": 2
}
